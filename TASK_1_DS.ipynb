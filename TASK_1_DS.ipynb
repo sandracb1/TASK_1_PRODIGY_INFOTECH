{
 "cells": [
  {
   "cell_type": "markdown",
   "id": "7444aa55",
   "metadata": {},
   "source": [
    "# Task 1"
   ]
  },
  {
   "cell_type": "markdown",
   "id": "a298a031",
   "metadata": {},
   "source": [
    "### Create a bar chart or histogram to visualize the distribution of a categorical or continuous variable, such as the distribution of ages or genders in a population."
   ]
  },
  {
   "cell_type": "code",
   "execution_count": 2,
   "id": "ef68085c",
   "metadata": {},
   "outputs": [],
   "source": [
    "import numpy as np\n",
    "import pandas as pd\n",
    "import matplotlib.pyplot as plt\n",
    "import seaborn as sns"
   ]
  },
  {
   "cell_type": "code",
   "execution_count": 4,
   "id": "46398e14",
   "metadata": {},
   "outputs": [
    {
     "data": {
      "text/html": [
       "<div>\n",
       "<style scoped>\n",
       "    .dataframe tbody tr th:only-of-type {\n",
       "        vertical-align: middle;\n",
       "    }\n",
       "\n",
       "    .dataframe tbody tr th {\n",
       "        vertical-align: top;\n",
       "    }\n",
       "\n",
       "    .dataframe thead th {\n",
       "        text-align: right;\n",
       "    }\n",
       "</style>\n",
       "<table border=\"1\" class=\"dataframe\">\n",
       "  <thead>\n",
       "    <tr style=\"text-align: right;\">\n",
       "      <th></th>\n",
       "      <th>Country Name</th>\n",
       "      <th>Country Code</th>\n",
       "      <th>Indicator Name</th>\n",
       "      <th>Indicator Code</th>\n",
       "      <th>2001</th>\n",
       "      <th>2002</th>\n",
       "      <th>2003</th>\n",
       "      <th>2004</th>\n",
       "      <th>2005</th>\n",
       "      <th>2006</th>\n",
       "      <th>...</th>\n",
       "      <th>2013</th>\n",
       "      <th>2014</th>\n",
       "      <th>2015</th>\n",
       "      <th>2016</th>\n",
       "      <th>2017</th>\n",
       "      <th>2018</th>\n",
       "      <th>2019</th>\n",
       "      <th>2020</th>\n",
       "      <th>2021</th>\n",
       "      <th>2022</th>\n",
       "    </tr>\n",
       "  </thead>\n",
       "  <tbody>\n",
       "    <tr>\n",
       "      <th>0</th>\n",
       "      <td>Aruba</td>\n",
       "      <td>ABW</td>\n",
       "      <td>Population, total</td>\n",
       "      <td>SP.POP.TOTL</td>\n",
       "      <td>90691.0</td>\n",
       "      <td>91781.0</td>\n",
       "      <td>92701.0</td>\n",
       "      <td>93540.0</td>\n",
       "      <td>94483.0</td>\n",
       "      <td>95606.0</td>\n",
       "      <td>...</td>\n",
       "      <td>102880.0</td>\n",
       "      <td>103594.0</td>\n",
       "      <td>104257.0</td>\n",
       "      <td>104874.0</td>\n",
       "      <td>105439.0</td>\n",
       "      <td>105962.0</td>\n",
       "      <td>106442.0</td>\n",
       "      <td>106585.0</td>\n",
       "      <td>106537.0</td>\n",
       "      <td>106445.0</td>\n",
       "    </tr>\n",
       "    <tr>\n",
       "      <th>1</th>\n",
       "      <td>Africa Eastern and Southern</td>\n",
       "      <td>AFE</td>\n",
       "      <td>Population, total</td>\n",
       "      <td>SP.POP.TOTL</td>\n",
       "      <td>412001885.0</td>\n",
       "      <td>422741118.0</td>\n",
       "      <td>433807484.0</td>\n",
       "      <td>445281555.0</td>\n",
       "      <td>457153837.0</td>\n",
       "      <td>469508516.0</td>\n",
       "      <td>...</td>\n",
       "      <td>567892149.0</td>\n",
       "      <td>583651101.0</td>\n",
       "      <td>600008424.0</td>\n",
       "      <td>616377605.0</td>\n",
       "      <td>632746570.0</td>\n",
       "      <td>649757148.0</td>\n",
       "      <td>667242986.0</td>\n",
       "      <td>685112979.0</td>\n",
       "      <td>702977106.0</td>\n",
       "      <td>720839314.0</td>\n",
       "    </tr>\n",
       "    <tr>\n",
       "      <th>2</th>\n",
       "      <td>Afghanistan</td>\n",
       "      <td>AFG</td>\n",
       "      <td>Population, total</td>\n",
       "      <td>SP.POP.TOTL</td>\n",
       "      <td>19688632.0</td>\n",
       "      <td>21000256.0</td>\n",
       "      <td>22645130.0</td>\n",
       "      <td>23553551.0</td>\n",
       "      <td>24411191.0</td>\n",
       "      <td>25442944.0</td>\n",
       "      <td>...</td>\n",
       "      <td>31541209.0</td>\n",
       "      <td>32716210.0</td>\n",
       "      <td>33753499.0</td>\n",
       "      <td>34636207.0</td>\n",
       "      <td>35643418.0</td>\n",
       "      <td>36686784.0</td>\n",
       "      <td>37769499.0</td>\n",
       "      <td>38972230.0</td>\n",
       "      <td>40099462.0</td>\n",
       "      <td>41128771.0</td>\n",
       "    </tr>\n",
       "    <tr>\n",
       "      <th>3</th>\n",
       "      <td>Africa Western and Central</td>\n",
       "      <td>AFW</td>\n",
       "      <td>Population, total</td>\n",
       "      <td>SP.POP.TOTL</td>\n",
       "      <td>277160097.0</td>\n",
       "      <td>284952322.0</td>\n",
       "      <td>292977949.0</td>\n",
       "      <td>301265247.0</td>\n",
       "      <td>309824829.0</td>\n",
       "      <td>318601484.0</td>\n",
       "      <td>...</td>\n",
       "      <td>387204553.0</td>\n",
       "      <td>397855507.0</td>\n",
       "      <td>408690375.0</td>\n",
       "      <td>419778384.0</td>\n",
       "      <td>431138704.0</td>\n",
       "      <td>442646825.0</td>\n",
       "      <td>454306063.0</td>\n",
       "      <td>466189102.0</td>\n",
       "      <td>478185907.0</td>\n",
       "      <td>490330870.0</td>\n",
       "    </tr>\n",
       "    <tr>\n",
       "      <th>4</th>\n",
       "      <td>Angola</td>\n",
       "      <td>AGO</td>\n",
       "      <td>Population, total</td>\n",
       "      <td>SP.POP.TOTL</td>\n",
       "      <td>16941587.0</td>\n",
       "      <td>17516139.0</td>\n",
       "      <td>18124342.0</td>\n",
       "      <td>18771125.0</td>\n",
       "      <td>19450959.0</td>\n",
       "      <td>20162340.0</td>\n",
       "      <td>...</td>\n",
       "      <td>26147002.0</td>\n",
       "      <td>27128337.0</td>\n",
       "      <td>28127721.0</td>\n",
       "      <td>29154746.0</td>\n",
       "      <td>30208628.0</td>\n",
       "      <td>31273533.0</td>\n",
       "      <td>32353588.0</td>\n",
       "      <td>33428486.0</td>\n",
       "      <td>34503774.0</td>\n",
       "      <td>35588987.0</td>\n",
       "    </tr>\n",
       "    <tr>\n",
       "      <th>...</th>\n",
       "      <td>...</td>\n",
       "      <td>...</td>\n",
       "      <td>...</td>\n",
       "      <td>...</td>\n",
       "      <td>...</td>\n",
       "      <td>...</td>\n",
       "      <td>...</td>\n",
       "      <td>...</td>\n",
       "      <td>...</td>\n",
       "      <td>...</td>\n",
       "      <td>...</td>\n",
       "      <td>...</td>\n",
       "      <td>...</td>\n",
       "      <td>...</td>\n",
       "      <td>...</td>\n",
       "      <td>...</td>\n",
       "      <td>...</td>\n",
       "      <td>...</td>\n",
       "      <td>...</td>\n",
       "      <td>...</td>\n",
       "      <td>...</td>\n",
       "    </tr>\n",
       "    <tr>\n",
       "      <th>261</th>\n",
       "      <td>Kosovo</td>\n",
       "      <td>XKX</td>\n",
       "      <td>Population, total</td>\n",
       "      <td>SP.POP.TOTL</td>\n",
       "      <td>1701154.0</td>\n",
       "      <td>1702310.0</td>\n",
       "      <td>1703466.0</td>\n",
       "      <td>1704622.0</td>\n",
       "      <td>1705780.0</td>\n",
       "      <td>1719536.0</td>\n",
       "      <td>...</td>\n",
       "      <td>1818117.0</td>\n",
       "      <td>1812771.0</td>\n",
       "      <td>1788196.0</td>\n",
       "      <td>1777557.0</td>\n",
       "      <td>1791003.0</td>\n",
       "      <td>1797085.0</td>\n",
       "      <td>1788878.0</td>\n",
       "      <td>1790133.0</td>\n",
       "      <td>1786038.0</td>\n",
       "      <td>1761985.0</td>\n",
       "    </tr>\n",
       "    <tr>\n",
       "      <th>262</th>\n",
       "      <td>Yemen, Rep.</td>\n",
       "      <td>YEM</td>\n",
       "      <td>Population, total</td>\n",
       "      <td>SP.POP.TOTL</td>\n",
       "      <td>19143457.0</td>\n",
       "      <td>19660653.0</td>\n",
       "      <td>20188799.0</td>\n",
       "      <td>20733406.0</td>\n",
       "      <td>21320671.0</td>\n",
       "      <td>21966298.0</td>\n",
       "      <td>...</td>\n",
       "      <td>26984002.0</td>\n",
       "      <td>27753304.0</td>\n",
       "      <td>28516545.0</td>\n",
       "      <td>29274002.0</td>\n",
       "      <td>30034389.0</td>\n",
       "      <td>30790513.0</td>\n",
       "      <td>31546691.0</td>\n",
       "      <td>32284046.0</td>\n",
       "      <td>32981641.0</td>\n",
       "      <td>33696614.0</td>\n",
       "    </tr>\n",
       "    <tr>\n",
       "      <th>263</th>\n",
       "      <td>South Africa</td>\n",
       "      <td>ZAF</td>\n",
       "      <td>Population, total</td>\n",
       "      <td>SP.POP.TOTL</td>\n",
       "      <td>47229714.0</td>\n",
       "      <td>47661514.0</td>\n",
       "      <td>48104048.0</td>\n",
       "      <td>48556071.0</td>\n",
       "      <td>49017147.0</td>\n",
       "      <td>49491756.0</td>\n",
       "      <td>...</td>\n",
       "      <td>53873616.0</td>\n",
       "      <td>54729551.0</td>\n",
       "      <td>55876504.0</td>\n",
       "      <td>56422274.0</td>\n",
       "      <td>56641209.0</td>\n",
       "      <td>57339635.0</td>\n",
       "      <td>58087055.0</td>\n",
       "      <td>58801927.0</td>\n",
       "      <td>59392255.0</td>\n",
       "      <td>59893885.0</td>\n",
       "    </tr>\n",
       "    <tr>\n",
       "      <th>264</th>\n",
       "      <td>Zambia</td>\n",
       "      <td>ZMB</td>\n",
       "      <td>Population, total</td>\n",
       "      <td>SP.POP.TOTL</td>\n",
       "      <td>10191964.0</td>\n",
       "      <td>10508294.0</td>\n",
       "      <td>10837973.0</td>\n",
       "      <td>11188040.0</td>\n",
       "      <td>11564870.0</td>\n",
       "      <td>11971567.0</td>\n",
       "      <td>...</td>\n",
       "      <td>15234976.0</td>\n",
       "      <td>15737793.0</td>\n",
       "      <td>16248230.0</td>\n",
       "      <td>16767761.0</td>\n",
       "      <td>17298054.0</td>\n",
       "      <td>17835893.0</td>\n",
       "      <td>18380477.0</td>\n",
       "      <td>18927715.0</td>\n",
       "      <td>19473125.0</td>\n",
       "      <td>20017675.0</td>\n",
       "    </tr>\n",
       "    <tr>\n",
       "      <th>265</th>\n",
       "      <td>Zimbabwe</td>\n",
       "      <td>ZWE</td>\n",
       "      <td>Population, total</td>\n",
       "      <td>SP.POP.TOTL</td>\n",
       "      <td>11910978.0</td>\n",
       "      <td>11984644.0</td>\n",
       "      <td>12075828.0</td>\n",
       "      <td>12160881.0</td>\n",
       "      <td>12224753.0</td>\n",
       "      <td>12330490.0</td>\n",
       "      <td>...</td>\n",
       "      <td>13555422.0</td>\n",
       "      <td>13855753.0</td>\n",
       "      <td>14154937.0</td>\n",
       "      <td>14452704.0</td>\n",
       "      <td>14751101.0</td>\n",
       "      <td>15052184.0</td>\n",
       "      <td>15354608.0</td>\n",
       "      <td>15669666.0</td>\n",
       "      <td>15993524.0</td>\n",
       "      <td>16320537.0</td>\n",
       "    </tr>\n",
       "  </tbody>\n",
       "</table>\n",
       "<p>266 rows × 26 columns</p>\n",
       "</div>"
      ],
      "text/plain": [
       "                    Country Name Country Code     Indicator Name  \\\n",
       "0                          Aruba          ABW  Population, total   \n",
       "1    Africa Eastern and Southern          AFE  Population, total   \n",
       "2                    Afghanistan          AFG  Population, total   \n",
       "3     Africa Western and Central          AFW  Population, total   \n",
       "4                         Angola          AGO  Population, total   \n",
       "..                           ...          ...                ...   \n",
       "261                       Kosovo          XKX  Population, total   \n",
       "262                  Yemen, Rep.          YEM  Population, total   \n",
       "263                 South Africa          ZAF  Population, total   \n",
       "264                       Zambia          ZMB  Population, total   \n",
       "265                     Zimbabwe          ZWE  Population, total   \n",
       "\n",
       "    Indicator Code         2001         2002         2003         2004  \\\n",
       "0      SP.POP.TOTL      90691.0      91781.0      92701.0      93540.0   \n",
       "1      SP.POP.TOTL  412001885.0  422741118.0  433807484.0  445281555.0   \n",
       "2      SP.POP.TOTL   19688632.0   21000256.0   22645130.0   23553551.0   \n",
       "3      SP.POP.TOTL  277160097.0  284952322.0  292977949.0  301265247.0   \n",
       "4      SP.POP.TOTL   16941587.0   17516139.0   18124342.0   18771125.0   \n",
       "..             ...          ...          ...          ...          ...   \n",
       "261    SP.POP.TOTL    1701154.0    1702310.0    1703466.0    1704622.0   \n",
       "262    SP.POP.TOTL   19143457.0   19660653.0   20188799.0   20733406.0   \n",
       "263    SP.POP.TOTL   47229714.0   47661514.0   48104048.0   48556071.0   \n",
       "264    SP.POP.TOTL   10191964.0   10508294.0   10837973.0   11188040.0   \n",
       "265    SP.POP.TOTL   11910978.0   11984644.0   12075828.0   12160881.0   \n",
       "\n",
       "            2005         2006  ...         2013         2014         2015  \\\n",
       "0        94483.0      95606.0  ...     102880.0     103594.0     104257.0   \n",
       "1    457153837.0  469508516.0  ...  567892149.0  583651101.0  600008424.0   \n",
       "2     24411191.0   25442944.0  ...   31541209.0   32716210.0   33753499.0   \n",
       "3    309824829.0  318601484.0  ...  387204553.0  397855507.0  408690375.0   \n",
       "4     19450959.0   20162340.0  ...   26147002.0   27128337.0   28127721.0   \n",
       "..           ...          ...  ...          ...          ...          ...   \n",
       "261    1705780.0    1719536.0  ...    1818117.0    1812771.0    1788196.0   \n",
       "262   21320671.0   21966298.0  ...   26984002.0   27753304.0   28516545.0   \n",
       "263   49017147.0   49491756.0  ...   53873616.0   54729551.0   55876504.0   \n",
       "264   11564870.0   11971567.0  ...   15234976.0   15737793.0   16248230.0   \n",
       "265   12224753.0   12330490.0  ...   13555422.0   13855753.0   14154937.0   \n",
       "\n",
       "            2016         2017         2018         2019         2020  \\\n",
       "0       104874.0     105439.0     105962.0     106442.0     106585.0   \n",
       "1    616377605.0  632746570.0  649757148.0  667242986.0  685112979.0   \n",
       "2     34636207.0   35643418.0   36686784.0   37769499.0   38972230.0   \n",
       "3    419778384.0  431138704.0  442646825.0  454306063.0  466189102.0   \n",
       "4     29154746.0   30208628.0   31273533.0   32353588.0   33428486.0   \n",
       "..           ...          ...          ...          ...          ...   \n",
       "261    1777557.0    1791003.0    1797085.0    1788878.0    1790133.0   \n",
       "262   29274002.0   30034389.0   30790513.0   31546691.0   32284046.0   \n",
       "263   56422274.0   56641209.0   57339635.0   58087055.0   58801927.0   \n",
       "264   16767761.0   17298054.0   17835893.0   18380477.0   18927715.0   \n",
       "265   14452704.0   14751101.0   15052184.0   15354608.0   15669666.0   \n",
       "\n",
       "            2021         2022  \n",
       "0       106537.0     106445.0  \n",
       "1    702977106.0  720839314.0  \n",
       "2     40099462.0   41128771.0  \n",
       "3    478185907.0  490330870.0  \n",
       "4     34503774.0   35588987.0  \n",
       "..           ...          ...  \n",
       "261    1786038.0    1761985.0  \n",
       "262   32981641.0   33696614.0  \n",
       "263   59392255.0   59893885.0  \n",
       "264   19473125.0   20017675.0  \n",
       "265   15993524.0   16320537.0  \n",
       "\n",
       "[266 rows x 26 columns]"
      ]
     },
     "execution_count": 4,
     "metadata": {},
     "output_type": "execute_result"
    }
   ],
   "source": [
    "#loading dataset\n",
    "df=pd.read_csv('populationdata(2001-2022).csv')\n",
    "df"
   ]
  },
  {
   "cell_type": "code",
   "execution_count": 6,
   "id": "c182fca9",
   "metadata": {},
   "outputs": [
    {
     "data": {
      "text/plain": [
       "(266, 26)"
      ]
     },
     "execution_count": 6,
     "metadata": {},
     "output_type": "execute_result"
    }
   ],
   "source": [
    "df.shape"
   ]
  },
  {
   "cell_type": "code",
   "execution_count": 7,
   "id": "5eba3bd6",
   "metadata": {},
   "outputs": [
    {
     "data": {
      "text/plain": [
       "Index(['Country Name', 'Country Code', 'Indicator Name', 'Indicator Code',\n",
       "       '2001', '2002', '2003', '2004', '2005', '2006', '2007', '2008', '2009',\n",
       "       '2010', '2011', '2012', '2013', '2014', '2015', '2016', '2017', '2018',\n",
       "       '2019', '2020', '2021', '2022'],\n",
       "      dtype='object')"
      ]
     },
     "execution_count": 7,
     "metadata": {},
     "output_type": "execute_result"
    }
   ],
   "source": [
    "df.columns"
   ]
  },
  {
   "cell_type": "code",
   "execution_count": 8,
   "id": "f4896f7a",
   "metadata": {},
   "outputs": [
    {
     "data": {
      "text/plain": [
       "Country Name       object\n",
       "Country Code       object\n",
       "Indicator Name     object\n",
       "Indicator Code     object\n",
       "2001              float64\n",
       "2002              float64\n",
       "2003              float64\n",
       "2004              float64\n",
       "2005              float64\n",
       "2006              float64\n",
       "2007              float64\n",
       "2008              float64\n",
       "2009              float64\n",
       "2010              float64\n",
       "2011              float64\n",
       "2012              float64\n",
       "2013              float64\n",
       "2014              float64\n",
       "2015              float64\n",
       "2016              float64\n",
       "2017              float64\n",
       "2018              float64\n",
       "2019              float64\n",
       "2020              float64\n",
       "2021              float64\n",
       "2022              float64\n",
       "dtype: object"
      ]
     },
     "execution_count": 8,
     "metadata": {},
     "output_type": "execute_result"
    }
   ],
   "source": [
    "#checking datatypes\n",
    "df.dtypes"
   ]
  },
  {
   "cell_type": "code",
   "execution_count": 9,
   "id": "27c78e4f",
   "metadata": {},
   "outputs": [
    {
     "name": "stdout",
     "output_type": "stream",
     "text": [
      "<class 'pandas.core.frame.DataFrame'>\n",
      "RangeIndex: 266 entries, 0 to 265\n",
      "Data columns (total 26 columns):\n",
      " #   Column          Non-Null Count  Dtype  \n",
      "---  ------          --------------  -----  \n",
      " 0   Country Name    266 non-null    object \n",
      " 1   Country Code    266 non-null    object \n",
      " 2   Indicator Name  266 non-null    object \n",
      " 3   Indicator Code  266 non-null    object \n",
      " 4   2001            265 non-null    float64\n",
      " 5   2002            265 non-null    float64\n",
      " 6   2003            265 non-null    float64\n",
      " 7   2004            265 non-null    float64\n",
      " 8   2005            265 non-null    float64\n",
      " 9   2006            265 non-null    float64\n",
      " 10  2007            265 non-null    float64\n",
      " 11  2008            265 non-null    float64\n",
      " 12  2009            265 non-null    float64\n",
      " 13  2010            265 non-null    float64\n",
      " 14  2011            265 non-null    float64\n",
      " 15  2012            265 non-null    float64\n",
      " 16  2013            265 non-null    float64\n",
      " 17  2014            265 non-null    float64\n",
      " 18  2015            265 non-null    float64\n",
      " 19  2016            265 non-null    float64\n",
      " 20  2017            265 non-null    float64\n",
      " 21  2018            265 non-null    float64\n",
      " 22  2019            265 non-null    float64\n",
      " 23  2020            265 non-null    float64\n",
      " 24  2021            265 non-null    float64\n",
      " 25  2022            265 non-null    float64\n",
      "dtypes: float64(22), object(4)\n",
      "memory usage: 54.2+ KB\n"
     ]
    }
   ],
   "source": [
    "df.info()"
   ]
  },
  {
   "cell_type": "code",
   "execution_count": 10,
   "id": "85e98761",
   "metadata": {},
   "outputs": [
    {
     "data": {
      "text/html": [
       "<div>\n",
       "<style scoped>\n",
       "    .dataframe tbody tr th:only-of-type {\n",
       "        vertical-align: middle;\n",
       "    }\n",
       "\n",
       "    .dataframe tbody tr th {\n",
       "        vertical-align: top;\n",
       "    }\n",
       "\n",
       "    .dataframe thead th {\n",
       "        text-align: right;\n",
       "    }\n",
       "</style>\n",
       "<table border=\"1\" class=\"dataframe\">\n",
       "  <thead>\n",
       "    <tr style=\"text-align: right;\">\n",
       "      <th></th>\n",
       "      <th>2001</th>\n",
       "      <th>2002</th>\n",
       "      <th>2003</th>\n",
       "      <th>2004</th>\n",
       "      <th>2005</th>\n",
       "      <th>2006</th>\n",
       "      <th>2007</th>\n",
       "      <th>2008</th>\n",
       "      <th>2009</th>\n",
       "      <th>2010</th>\n",
       "      <th>...</th>\n",
       "      <th>2013</th>\n",
       "      <th>2014</th>\n",
       "      <th>2015</th>\n",
       "      <th>2016</th>\n",
       "      <th>2017</th>\n",
       "      <th>2018</th>\n",
       "      <th>2019</th>\n",
       "      <th>2020</th>\n",
       "      <th>2021</th>\n",
       "      <th>2022</th>\n",
       "    </tr>\n",
       "  </thead>\n",
       "  <tbody>\n",
       "    <tr>\n",
       "      <th>count</th>\n",
       "      <td>2.650000e+02</td>\n",
       "      <td>2.650000e+02</td>\n",
       "      <td>2.650000e+02</td>\n",
       "      <td>2.650000e+02</td>\n",
       "      <td>2.650000e+02</td>\n",
       "      <td>2.650000e+02</td>\n",
       "      <td>2.650000e+02</td>\n",
       "      <td>2.650000e+02</td>\n",
       "      <td>2.650000e+02</td>\n",
       "      <td>2.650000e+02</td>\n",
       "      <td>...</td>\n",
       "      <td>2.650000e+02</td>\n",
       "      <td>2.650000e+02</td>\n",
       "      <td>2.650000e+02</td>\n",
       "      <td>2.650000e+02</td>\n",
       "      <td>2.650000e+02</td>\n",
       "      <td>2.650000e+02</td>\n",
       "      <td>2.650000e+02</td>\n",
       "      <td>2.650000e+02</td>\n",
       "      <td>2.650000e+02</td>\n",
       "      <td>2.650000e+02</td>\n",
       "    </tr>\n",
       "    <tr>\n",
       "      <th>mean</th>\n",
       "      <td>2.492933e+08</td>\n",
       "      <td>2.527993e+08</td>\n",
       "      <td>2.563022e+08</td>\n",
       "      <td>2.598113e+08</td>\n",
       "      <td>2.633373e+08</td>\n",
       "      <td>2.668790e+08</td>\n",
       "      <td>2.704283e+08</td>\n",
       "      <td>2.740254e+08</td>\n",
       "      <td>2.776655e+08</td>\n",
       "      <td>2.813384e+08</td>\n",
       "      <td>...</td>\n",
       "      <td>2.927787e+08</td>\n",
       "      <td>2.966774e+08</td>\n",
       "      <td>3.005462e+08</td>\n",
       "      <td>3.044051e+08</td>\n",
       "      <td>3.082575e+08</td>\n",
       "      <td>3.120276e+08</td>\n",
       "      <td>3.157110e+08</td>\n",
       "      <td>3.192936e+08</td>\n",
       "      <td>3.225180e+08</td>\n",
       "      <td>3.254839e+08</td>\n",
       "    </tr>\n",
       "    <tr>\n",
       "      <th>std</th>\n",
       "      <td>7.901104e+08</td>\n",
       "      <td>8.006986e+08</td>\n",
       "      <td>8.111969e+08</td>\n",
       "      <td>8.216948e+08</td>\n",
       "      <td>8.321853e+08</td>\n",
       "      <td>8.426182e+08</td>\n",
       "      <td>8.530054e+08</td>\n",
       "      <td>8.635048e+08</td>\n",
       "      <td>8.741328e+08</td>\n",
       "      <td>8.848783e+08</td>\n",
       "      <td>...</td>\n",
       "      <td>9.186849e+08</td>\n",
       "      <td>9.301446e+08</td>\n",
       "      <td>9.414558e+08</td>\n",
       "      <td>9.526720e+08</td>\n",
       "      <td>9.638572e+08</td>\n",
       "      <td>9.746880e+08</td>\n",
       "      <td>9.851690e+08</td>\n",
       "      <td>9.952294e+08</td>\n",
       "      <td>1.004211e+09</td>\n",
       "      <td>1.012174e+09</td>\n",
       "    </tr>\n",
       "    <tr>\n",
       "      <th>min</th>\n",
       "      <td>9.621000e+03</td>\n",
       "      <td>9.609000e+03</td>\n",
       "      <td>9.668000e+03</td>\n",
       "      <td>9.791000e+03</td>\n",
       "      <td>9.912000e+03</td>\n",
       "      <td>1.003000e+04</td>\n",
       "      <td>1.014900e+04</td>\n",
       "      <td>1.024300e+04</td>\n",
       "      <td>1.023300e+04</td>\n",
       "      <td>1.024100e+04</td>\n",
       "      <td>...</td>\n",
       "      <td>1.069400e+04</td>\n",
       "      <td>1.089900e+04</td>\n",
       "      <td>1.087700e+04</td>\n",
       "      <td>1.085200e+04</td>\n",
       "      <td>1.082800e+04</td>\n",
       "      <td>1.086500e+04</td>\n",
       "      <td>1.095600e+04</td>\n",
       "      <td>1.106900e+04</td>\n",
       "      <td>1.120400e+04</td>\n",
       "      <td>1.131200e+04</td>\n",
       "    </tr>\n",
       "    <tr>\n",
       "      <th>25%</th>\n",
       "      <td>1.306590e+06</td>\n",
       "      <td>1.341696e+06</td>\n",
       "      <td>1.353548e+06</td>\n",
       "      <td>1.361172e+06</td>\n",
       "      <td>1.369075e+06</td>\n",
       "      <td>1.376919e+06</td>\n",
       "      <td>1.384861e+06</td>\n",
       "      <td>1.444277e+06</td>\n",
       "      <td>1.527196e+06</td>\n",
       "      <td>1.567220e+06</td>\n",
       "      <td>...</td>\n",
       "      <td>1.697753e+06</td>\n",
       "      <td>1.743309e+06</td>\n",
       "      <td>1.788196e+06</td>\n",
       "      <td>1.777557e+06</td>\n",
       "      <td>1.791003e+06</td>\n",
       "      <td>1.797085e+06</td>\n",
       "      <td>1.788878e+06</td>\n",
       "      <td>1.790133e+06</td>\n",
       "      <td>1.786038e+06</td>\n",
       "      <td>1.761985e+06</td>\n",
       "    </tr>\n",
       "    <tr>\n",
       "      <th>50%</th>\n",
       "      <td>8.223941e+06</td>\n",
       "      <td>8.372306e+06</td>\n",
       "      <td>8.567992e+06</td>\n",
       "      <td>8.791853e+06</td>\n",
       "      <td>9.026299e+06</td>\n",
       "      <td>9.080505e+06</td>\n",
       "      <td>9.148092e+06</td>\n",
       "      <td>9.219637e+06</td>\n",
       "      <td>9.298515e+06</td>\n",
       "      <td>9.483836e+06</td>\n",
       "      <td>...</td>\n",
       "      <td>1.014958e+07</td>\n",
       "      <td>1.028212e+07</td>\n",
       "      <td>1.035808e+07</td>\n",
       "      <td>1.032545e+07</td>\n",
       "      <td>1.030030e+07</td>\n",
       "      <td>1.039533e+07</td>\n",
       "      <td>1.044767e+07</td>\n",
       "      <td>1.060623e+07</td>\n",
       "      <td>1.050577e+07</td>\n",
       "      <td>1.052607e+07</td>\n",
       "    </tr>\n",
       "    <tr>\n",
       "      <th>75%</th>\n",
       "      <td>5.010666e+07</td>\n",
       "      <td>5.166207e+07</td>\n",
       "      <td>5.320564e+07</td>\n",
       "      <td>5.481561e+07</td>\n",
       "      <td>5.655025e+07</td>\n",
       "      <td>5.814398e+07</td>\n",
       "      <td>5.843831e+07</td>\n",
       "      <td>5.882673e+07</td>\n",
       "      <td>5.909536e+07</td>\n",
       "      <td>5.927742e+07</td>\n",
       "      <td>...</td>\n",
       "      <td>6.023395e+07</td>\n",
       "      <td>6.078914e+07</td>\n",
       "      <td>6.073058e+07</td>\n",
       "      <td>6.062750e+07</td>\n",
       "      <td>6.053671e+07</td>\n",
       "      <td>6.042176e+07</td>\n",
       "      <td>5.987258e+07</td>\n",
       "      <td>6.170452e+07</td>\n",
       "      <td>6.358833e+07</td>\n",
       "      <td>6.549775e+07</td>\n",
       "    </tr>\n",
       "    <tr>\n",
       "      <th>max</th>\n",
       "      <td>6.226348e+09</td>\n",
       "      <td>6.308141e+09</td>\n",
       "      <td>6.389462e+09</td>\n",
       "      <td>6.470924e+09</td>\n",
       "      <td>6.552700e+09</td>\n",
       "      <td>6.635110e+09</td>\n",
       "      <td>6.717878e+09</td>\n",
       "      <td>6.801710e+09</td>\n",
       "      <td>6.885850e+09</td>\n",
       "      <td>6.970039e+09</td>\n",
       "      <td>...</td>\n",
       "      <td>7.229732e+09</td>\n",
       "      <td>7.317970e+09</td>\n",
       "      <td>7.405278e+09</td>\n",
       "      <td>7.492157e+09</td>\n",
       "      <td>7.578221e+09</td>\n",
       "      <td>7.661777e+09</td>\n",
       "      <td>7.742682e+09</td>\n",
       "      <td>7.820964e+09</td>\n",
       "      <td>7.888161e+09</td>\n",
       "      <td>7.951150e+09</td>\n",
       "    </tr>\n",
       "  </tbody>\n",
       "</table>\n",
       "<p>8 rows × 22 columns</p>\n",
       "</div>"
      ],
      "text/plain": [
       "               2001          2002          2003          2004          2005  \\\n",
       "count  2.650000e+02  2.650000e+02  2.650000e+02  2.650000e+02  2.650000e+02   \n",
       "mean   2.492933e+08  2.527993e+08  2.563022e+08  2.598113e+08  2.633373e+08   \n",
       "std    7.901104e+08  8.006986e+08  8.111969e+08  8.216948e+08  8.321853e+08   \n",
       "min    9.621000e+03  9.609000e+03  9.668000e+03  9.791000e+03  9.912000e+03   \n",
       "25%    1.306590e+06  1.341696e+06  1.353548e+06  1.361172e+06  1.369075e+06   \n",
       "50%    8.223941e+06  8.372306e+06  8.567992e+06  8.791853e+06  9.026299e+06   \n",
       "75%    5.010666e+07  5.166207e+07  5.320564e+07  5.481561e+07  5.655025e+07   \n",
       "max    6.226348e+09  6.308141e+09  6.389462e+09  6.470924e+09  6.552700e+09   \n",
       "\n",
       "               2006          2007          2008          2009          2010  \\\n",
       "count  2.650000e+02  2.650000e+02  2.650000e+02  2.650000e+02  2.650000e+02   \n",
       "mean   2.668790e+08  2.704283e+08  2.740254e+08  2.776655e+08  2.813384e+08   \n",
       "std    8.426182e+08  8.530054e+08  8.635048e+08  8.741328e+08  8.848783e+08   \n",
       "min    1.003000e+04  1.014900e+04  1.024300e+04  1.023300e+04  1.024100e+04   \n",
       "25%    1.376919e+06  1.384861e+06  1.444277e+06  1.527196e+06  1.567220e+06   \n",
       "50%    9.080505e+06  9.148092e+06  9.219637e+06  9.298515e+06  9.483836e+06   \n",
       "75%    5.814398e+07  5.843831e+07  5.882673e+07  5.909536e+07  5.927742e+07   \n",
       "max    6.635110e+09  6.717878e+09  6.801710e+09  6.885850e+09  6.970039e+09   \n",
       "\n",
       "       ...          2013          2014          2015          2016  \\\n",
       "count  ...  2.650000e+02  2.650000e+02  2.650000e+02  2.650000e+02   \n",
       "mean   ...  2.927787e+08  2.966774e+08  3.005462e+08  3.044051e+08   \n",
       "std    ...  9.186849e+08  9.301446e+08  9.414558e+08  9.526720e+08   \n",
       "min    ...  1.069400e+04  1.089900e+04  1.087700e+04  1.085200e+04   \n",
       "25%    ...  1.697753e+06  1.743309e+06  1.788196e+06  1.777557e+06   \n",
       "50%    ...  1.014958e+07  1.028212e+07  1.035808e+07  1.032545e+07   \n",
       "75%    ...  6.023395e+07  6.078914e+07  6.073058e+07  6.062750e+07   \n",
       "max    ...  7.229732e+09  7.317970e+09  7.405278e+09  7.492157e+09   \n",
       "\n",
       "               2017          2018          2019          2020          2021  \\\n",
       "count  2.650000e+02  2.650000e+02  2.650000e+02  2.650000e+02  2.650000e+02   \n",
       "mean   3.082575e+08  3.120276e+08  3.157110e+08  3.192936e+08  3.225180e+08   \n",
       "std    9.638572e+08  9.746880e+08  9.851690e+08  9.952294e+08  1.004211e+09   \n",
       "min    1.082800e+04  1.086500e+04  1.095600e+04  1.106900e+04  1.120400e+04   \n",
       "25%    1.791003e+06  1.797085e+06  1.788878e+06  1.790133e+06  1.786038e+06   \n",
       "50%    1.030030e+07  1.039533e+07  1.044767e+07  1.060623e+07  1.050577e+07   \n",
       "75%    6.053671e+07  6.042176e+07  5.987258e+07  6.170452e+07  6.358833e+07   \n",
       "max    7.578221e+09  7.661777e+09  7.742682e+09  7.820964e+09  7.888161e+09   \n",
       "\n",
       "               2022  \n",
       "count  2.650000e+02  \n",
       "mean   3.254839e+08  \n",
       "std    1.012174e+09  \n",
       "min    1.131200e+04  \n",
       "25%    1.761985e+06  \n",
       "50%    1.052607e+07  \n",
       "75%    6.549775e+07  \n",
       "max    7.951150e+09  \n",
       "\n",
       "[8 rows x 22 columns]"
      ]
     },
     "execution_count": 10,
     "metadata": {},
     "output_type": "execute_result"
    }
   ],
   "source": [
    "#summary of dataset\n",
    "df.describe()"
   ]
  },
  {
   "cell_type": "code",
   "execution_count": 12,
   "id": "467bf854",
   "metadata": {},
   "outputs": [
    {
     "data": {
      "text/plain": [
       "0"
      ]
     },
     "execution_count": 12,
     "metadata": {},
     "output_type": "execute_result"
    }
   ],
   "source": [
    "#checking for duplicate values\n",
    "df.duplicated().sum()"
   ]
  },
  {
   "cell_type": "code",
   "execution_count": 13,
   "id": "065d5eea",
   "metadata": {},
   "outputs": [
    {
     "data": {
      "text/plain": [
       "Country Name      0\n",
       "Country Code      0\n",
       "Indicator Name    0\n",
       "Indicator Code    0\n",
       "2001              1\n",
       "2002              1\n",
       "2003              1\n",
       "2004              1\n",
       "2005              1\n",
       "2006              1\n",
       "2007              1\n",
       "2008              1\n",
       "2009              1\n",
       "2010              1\n",
       "2011              1\n",
       "2012              1\n",
       "2013              1\n",
       "2014              1\n",
       "2015              1\n",
       "2016              1\n",
       "2017              1\n",
       "2018              1\n",
       "2019              1\n",
       "2020              1\n",
       "2021              1\n",
       "2022              1\n",
       "dtype: int64"
      ]
     },
     "execution_count": 13,
     "metadata": {},
     "output_type": "execute_result"
    }
   ],
   "source": [
    "#checking missing values\n",
    "df.isna().sum()"
   ]
  },
  {
   "cell_type": "code",
   "execution_count": 14,
   "id": "475f7e64",
   "metadata": {},
   "outputs": [
    {
     "data": {
      "text/plain": [
       "True"
      ]
     },
     "execution_count": 14,
     "metadata": {},
     "output_type": "execute_result"
    }
   ],
   "source": [
    "df.isna().sum().any()"
   ]
  },
  {
   "cell_type": "code",
   "execution_count": 15,
   "id": "d4b01b07",
   "metadata": {},
   "outputs": [],
   "source": [
    "# filling the missing values\n",
    "df=df.fillna(method='ffill')"
   ]
  },
  {
   "cell_type": "code",
   "execution_count": 16,
   "id": "a9c72c54",
   "metadata": {},
   "outputs": [
    {
     "data": {
      "text/html": [
       "<div>\n",
       "<style scoped>\n",
       "    .dataframe tbody tr th:only-of-type {\n",
       "        vertical-align: middle;\n",
       "    }\n",
       "\n",
       "    .dataframe tbody tr th {\n",
       "        vertical-align: top;\n",
       "    }\n",
       "\n",
       "    .dataframe thead th {\n",
       "        text-align: right;\n",
       "    }\n",
       "</style>\n",
       "<table border=\"1\" class=\"dataframe\">\n",
       "  <thead>\n",
       "    <tr style=\"text-align: right;\">\n",
       "      <th></th>\n",
       "      <th>Country Name</th>\n",
       "      <th>Country Code</th>\n",
       "      <th>Indicator Name</th>\n",
       "      <th>Indicator Code</th>\n",
       "      <th>2001</th>\n",
       "      <th>2002</th>\n",
       "      <th>2003</th>\n",
       "      <th>2004</th>\n",
       "      <th>2005</th>\n",
       "      <th>2006</th>\n",
       "      <th>...</th>\n",
       "      <th>2013</th>\n",
       "      <th>2014</th>\n",
       "      <th>2015</th>\n",
       "      <th>2016</th>\n",
       "      <th>2017</th>\n",
       "      <th>2018</th>\n",
       "      <th>2019</th>\n",
       "      <th>2020</th>\n",
       "      <th>2021</th>\n",
       "      <th>2022</th>\n",
       "    </tr>\n",
       "  </thead>\n",
       "  <tbody>\n",
       "    <tr>\n",
       "      <th>0</th>\n",
       "      <td>Aruba</td>\n",
       "      <td>ABW</td>\n",
       "      <td>Population, total</td>\n",
       "      <td>SP.POP.TOTL</td>\n",
       "      <td>90691.0</td>\n",
       "      <td>91781.0</td>\n",
       "      <td>92701.0</td>\n",
       "      <td>93540.0</td>\n",
       "      <td>94483.0</td>\n",
       "      <td>95606.0</td>\n",
       "      <td>...</td>\n",
       "      <td>102880.0</td>\n",
       "      <td>103594.0</td>\n",
       "      <td>104257.0</td>\n",
       "      <td>104874.0</td>\n",
       "      <td>105439.0</td>\n",
       "      <td>105962.0</td>\n",
       "      <td>106442.0</td>\n",
       "      <td>106585.0</td>\n",
       "      <td>106537.0</td>\n",
       "      <td>106445.0</td>\n",
       "    </tr>\n",
       "    <tr>\n",
       "      <th>1</th>\n",
       "      <td>Africa Eastern and Southern</td>\n",
       "      <td>AFE</td>\n",
       "      <td>Population, total</td>\n",
       "      <td>SP.POP.TOTL</td>\n",
       "      <td>412001885.0</td>\n",
       "      <td>422741118.0</td>\n",
       "      <td>433807484.0</td>\n",
       "      <td>445281555.0</td>\n",
       "      <td>457153837.0</td>\n",
       "      <td>469508516.0</td>\n",
       "      <td>...</td>\n",
       "      <td>567892149.0</td>\n",
       "      <td>583651101.0</td>\n",
       "      <td>600008424.0</td>\n",
       "      <td>616377605.0</td>\n",
       "      <td>632746570.0</td>\n",
       "      <td>649757148.0</td>\n",
       "      <td>667242986.0</td>\n",
       "      <td>685112979.0</td>\n",
       "      <td>702977106.0</td>\n",
       "      <td>720839314.0</td>\n",
       "    </tr>\n",
       "    <tr>\n",
       "      <th>2</th>\n",
       "      <td>Afghanistan</td>\n",
       "      <td>AFG</td>\n",
       "      <td>Population, total</td>\n",
       "      <td>SP.POP.TOTL</td>\n",
       "      <td>19688632.0</td>\n",
       "      <td>21000256.0</td>\n",
       "      <td>22645130.0</td>\n",
       "      <td>23553551.0</td>\n",
       "      <td>24411191.0</td>\n",
       "      <td>25442944.0</td>\n",
       "      <td>...</td>\n",
       "      <td>31541209.0</td>\n",
       "      <td>32716210.0</td>\n",
       "      <td>33753499.0</td>\n",
       "      <td>34636207.0</td>\n",
       "      <td>35643418.0</td>\n",
       "      <td>36686784.0</td>\n",
       "      <td>37769499.0</td>\n",
       "      <td>38972230.0</td>\n",
       "      <td>40099462.0</td>\n",
       "      <td>41128771.0</td>\n",
       "    </tr>\n",
       "    <tr>\n",
       "      <th>3</th>\n",
       "      <td>Africa Western and Central</td>\n",
       "      <td>AFW</td>\n",
       "      <td>Population, total</td>\n",
       "      <td>SP.POP.TOTL</td>\n",
       "      <td>277160097.0</td>\n",
       "      <td>284952322.0</td>\n",
       "      <td>292977949.0</td>\n",
       "      <td>301265247.0</td>\n",
       "      <td>309824829.0</td>\n",
       "      <td>318601484.0</td>\n",
       "      <td>...</td>\n",
       "      <td>387204553.0</td>\n",
       "      <td>397855507.0</td>\n",
       "      <td>408690375.0</td>\n",
       "      <td>419778384.0</td>\n",
       "      <td>431138704.0</td>\n",
       "      <td>442646825.0</td>\n",
       "      <td>454306063.0</td>\n",
       "      <td>466189102.0</td>\n",
       "      <td>478185907.0</td>\n",
       "      <td>490330870.0</td>\n",
       "    </tr>\n",
       "    <tr>\n",
       "      <th>4</th>\n",
       "      <td>Angola</td>\n",
       "      <td>AGO</td>\n",
       "      <td>Population, total</td>\n",
       "      <td>SP.POP.TOTL</td>\n",
       "      <td>16941587.0</td>\n",
       "      <td>17516139.0</td>\n",
       "      <td>18124342.0</td>\n",
       "      <td>18771125.0</td>\n",
       "      <td>19450959.0</td>\n",
       "      <td>20162340.0</td>\n",
       "      <td>...</td>\n",
       "      <td>26147002.0</td>\n",
       "      <td>27128337.0</td>\n",
       "      <td>28127721.0</td>\n",
       "      <td>29154746.0</td>\n",
       "      <td>30208628.0</td>\n",
       "      <td>31273533.0</td>\n",
       "      <td>32353588.0</td>\n",
       "      <td>33428486.0</td>\n",
       "      <td>34503774.0</td>\n",
       "      <td>35588987.0</td>\n",
       "    </tr>\n",
       "  </tbody>\n",
       "</table>\n",
       "<p>5 rows × 26 columns</p>\n",
       "</div>"
      ],
      "text/plain": [
       "                  Country Name Country Code     Indicator Name Indicator Code  \\\n",
       "0                        Aruba          ABW  Population, total    SP.POP.TOTL   \n",
       "1  Africa Eastern and Southern          AFE  Population, total    SP.POP.TOTL   \n",
       "2                  Afghanistan          AFG  Population, total    SP.POP.TOTL   \n",
       "3   Africa Western and Central          AFW  Population, total    SP.POP.TOTL   \n",
       "4                       Angola          AGO  Population, total    SP.POP.TOTL   \n",
       "\n",
       "          2001         2002         2003         2004         2005  \\\n",
       "0      90691.0      91781.0      92701.0      93540.0      94483.0   \n",
       "1  412001885.0  422741118.0  433807484.0  445281555.0  457153837.0   \n",
       "2   19688632.0   21000256.0   22645130.0   23553551.0   24411191.0   \n",
       "3  277160097.0  284952322.0  292977949.0  301265247.0  309824829.0   \n",
       "4   16941587.0   17516139.0   18124342.0   18771125.0   19450959.0   \n",
       "\n",
       "          2006  ...         2013         2014         2015         2016  \\\n",
       "0      95606.0  ...     102880.0     103594.0     104257.0     104874.0   \n",
       "1  469508516.0  ...  567892149.0  583651101.0  600008424.0  616377605.0   \n",
       "2   25442944.0  ...   31541209.0   32716210.0   33753499.0   34636207.0   \n",
       "3  318601484.0  ...  387204553.0  397855507.0  408690375.0  419778384.0   \n",
       "4   20162340.0  ...   26147002.0   27128337.0   28127721.0   29154746.0   \n",
       "\n",
       "          2017         2018         2019         2020         2021  \\\n",
       "0     105439.0     105962.0     106442.0     106585.0     106537.0   \n",
       "1  632746570.0  649757148.0  667242986.0  685112979.0  702977106.0   \n",
       "2   35643418.0   36686784.0   37769499.0   38972230.0   40099462.0   \n",
       "3  431138704.0  442646825.0  454306063.0  466189102.0  478185907.0   \n",
       "4   30208628.0   31273533.0   32353588.0   33428486.0   34503774.0   \n",
       "\n",
       "          2022  \n",
       "0     106445.0  \n",
       "1  720839314.0  \n",
       "2   41128771.0  \n",
       "3  490330870.0  \n",
       "4   35588987.0  \n",
       "\n",
       "[5 rows x 26 columns]"
      ]
     },
     "execution_count": 16,
     "metadata": {},
     "output_type": "execute_result"
    }
   ],
   "source": [
    "df.head()"
   ]
  },
  {
   "cell_type": "code",
   "execution_count": 17,
   "id": "fdbfff63",
   "metadata": {},
   "outputs": [
    {
     "data": {
      "text/plain": [
       "False"
      ]
     },
     "execution_count": 17,
     "metadata": {},
     "output_type": "execute_result"
    }
   ],
   "source": [
    "df.isna().sum().any()"
   ]
  },
  {
   "cell_type": "code",
   "execution_count": 18,
   "id": "d7db541b",
   "metadata": {},
   "outputs": [
    {
     "data": {
      "text/plain": [
       "array(['Aruba', 'Africa Eastern and Southern', 'Afghanistan',\n",
       "       'Africa Western and Central', 'Angola', 'Albania', 'Andorra',\n",
       "       'Arab World', 'United Arab Emirates', 'Argentina', 'Armenia',\n",
       "       'American Samoa', 'Antigua and Barbuda', 'Australia', 'Austria',\n",
       "       'Azerbaijan', 'Burundi', 'Belgium', 'Benin', 'Burkina Faso',\n",
       "       'Bangladesh', 'Bulgaria', 'Bahrain', 'Bahamas, The',\n",
       "       'Bosnia and Herzegovina', 'Belarus', 'Belize', 'Bermuda',\n",
       "       'Bolivia', 'Brazil', 'Barbados', 'Brunei Darussalam', 'Bhutan',\n",
       "       'Botswana', 'Central African Republic', 'Canada',\n",
       "       'Central Europe and the Baltics', 'Switzerland', 'Channel Islands',\n",
       "       'Chile', 'China', \"Cote d'Ivoire\", 'Cameroon', 'Congo, Dem. Rep.',\n",
       "       'Congo, Rep.', 'Colombia', 'Comoros', 'Cabo Verde', 'Costa Rica',\n",
       "       'Caribbean small states', 'Cuba', 'Curacao', 'Cayman Islands',\n",
       "       'Cyprus', 'Czechia', 'Germany', 'Djibouti', 'Dominica', 'Denmark',\n",
       "       'Dominican Republic', 'Algeria',\n",
       "       'East Asia & Pacific (excluding high income)',\n",
       "       'Early-demographic dividend', 'East Asia & Pacific',\n",
       "       'Europe & Central Asia (excluding high income)',\n",
       "       'Europe & Central Asia', 'Ecuador', 'Egypt, Arab Rep.',\n",
       "       'Euro area', 'Eritrea', 'Spain', 'Estonia', 'Ethiopia',\n",
       "       'European Union', 'Fragile and conflict affected situations',\n",
       "       'Finland', 'Fiji', 'France', 'Faroe Islands',\n",
       "       'Micronesia, Fed. Sts.', 'Gabon', 'United Kingdom', 'Georgia',\n",
       "       'Ghana', 'Gibraltar', 'Guinea', 'Gambia, The', 'Guinea-Bissau',\n",
       "       'Equatorial Guinea', 'Greece', 'Grenada', 'Greenland', 'Guatemala',\n",
       "       'Guam', 'Guyana', 'High income', 'Hong Kong SAR, China',\n",
       "       'Honduras', 'Heavily indebted poor countries (HIPC)', 'Croatia',\n",
       "       'Haiti', 'Hungary', 'IBRD only', 'IDA & IBRD total', 'IDA total',\n",
       "       'IDA blend', 'Indonesia', 'IDA only', 'Isle of Man', 'India',\n",
       "       'Not classified', 'Ireland', 'Iran, Islamic Rep.', 'Iraq',\n",
       "       'Iceland', 'Israel', 'Italy', 'Jamaica', 'Jordan', 'Japan',\n",
       "       'Kazakhstan', 'Kenya', 'Kyrgyz Republic', 'Cambodia', 'Kiribati',\n",
       "       'St. Kitts and Nevis', 'Korea, Rep.', 'Kuwait',\n",
       "       'Latin America & Caribbean (excluding high income)', 'Lao PDR',\n",
       "       'Lebanon', 'Liberia', 'Libya', 'St. Lucia',\n",
       "       'Latin America & Caribbean',\n",
       "       'Least developed countries: UN classification', 'Low income',\n",
       "       'Liechtenstein', 'Sri Lanka', 'Lower middle income',\n",
       "       'Low & middle income', 'Lesotho', 'Late-demographic dividend',\n",
       "       'Lithuania', 'Luxembourg', 'Latvia', 'Macao SAR, China',\n",
       "       'St. Martin (French part)', 'Morocco', 'Monaco', 'Moldova',\n",
       "       'Madagascar', 'Maldives', 'Middle East & North Africa', 'Mexico',\n",
       "       'Marshall Islands', 'Middle income', 'North Macedonia', 'Mali',\n",
       "       'Malta', 'Myanmar',\n",
       "       'Middle East & North Africa (excluding high income)', 'Montenegro',\n",
       "       'Mongolia', 'Northern Mariana Islands', 'Mozambique', 'Mauritania',\n",
       "       'Mauritius', 'Malawi', 'Malaysia', 'North America', 'Namibia',\n",
       "       'New Caledonia', 'Niger', 'Nigeria', 'Nicaragua', 'Netherlands',\n",
       "       'Norway', 'Nepal', 'Nauru', 'New Zealand', 'OECD members', 'Oman',\n",
       "       'Other small states', 'Pakistan', 'Panama', 'Peru', 'Philippines',\n",
       "       'Palau', 'Papua New Guinea', 'Poland', 'Pre-demographic dividend',\n",
       "       'Puerto Rico', \"Korea, Dem. People's Rep.\", 'Portugal', 'Paraguay',\n",
       "       'West Bank and Gaza', 'Pacific island small states',\n",
       "       'Post-demographic dividend', 'French Polynesia', 'Qatar',\n",
       "       'Romania', 'Russian Federation', 'Rwanda', 'South Asia',\n",
       "       'Saudi Arabia', 'Sudan', 'Senegal', 'Singapore', 'Solomon Islands',\n",
       "       'Sierra Leone', 'El Salvador', 'San Marino', 'Somalia', 'Serbia',\n",
       "       'Sub-Saharan Africa (excluding high income)', 'South Sudan',\n",
       "       'Sub-Saharan Africa', 'Small states', 'Sao Tome and Principe',\n",
       "       'Suriname', 'Slovak Republic', 'Slovenia', 'Sweden', 'Eswatini',\n",
       "       'Sint Maarten (Dutch part)', 'Seychelles', 'Syrian Arab Republic',\n",
       "       'Turks and Caicos Islands', 'Chad',\n",
       "       'East Asia & Pacific (IDA & IBRD countries)',\n",
       "       'Europe & Central Asia (IDA & IBRD countries)', 'Togo', 'Thailand',\n",
       "       'Tajikistan', 'Turkmenistan',\n",
       "       'Latin America & the Caribbean (IDA & IBRD countries)',\n",
       "       'Timor-Leste', 'Middle East & North Africa (IDA & IBRD countries)',\n",
       "       'Tonga', 'South Asia (IDA & IBRD)',\n",
       "       'Sub-Saharan Africa (IDA & IBRD countries)', 'Trinidad and Tobago',\n",
       "       'Tunisia', 'Turkiye', 'Tuvalu', 'Tanzania', 'Uganda', 'Ukraine',\n",
       "       'Upper middle income', 'Uruguay', 'United States', 'Uzbekistan',\n",
       "       'St. Vincent and the Grenadines', 'Venezuela, RB',\n",
       "       'British Virgin Islands', 'Virgin Islands (U.S.)', 'Vietnam',\n",
       "       'Vanuatu', 'World', 'Samoa', 'Kosovo', 'Yemen, Rep.',\n",
       "       'South Africa', 'Zambia', 'Zimbabwe'], dtype=object)"
      ]
     },
     "execution_count": 18,
     "metadata": {},
     "output_type": "execute_result"
    }
   ],
   "source": [
    "\n",
    "#checking for unique column names\n",
    "df['Country Name'].unique()"
   ]
  },
  {
   "cell_type": "code",
   "execution_count": 19,
   "id": "dd1bcf37",
   "metadata": {},
   "outputs": [
    {
     "data": {
      "text/plain": [
       "array(['ABW', 'AFE', 'AFG', 'AFW', 'AGO', 'ALB', 'AND', 'ARB', 'ARE',\n",
       "       'ARG', 'ARM', 'ASM', 'ATG', 'AUS', 'AUT', 'AZE', 'BDI', 'BEL',\n",
       "       'BEN', 'BFA', 'BGD', 'BGR', 'BHR', 'BHS', 'BIH', 'BLR', 'BLZ',\n",
       "       'BMU', 'BOL', 'BRA', 'BRB', 'BRN', 'BTN', 'BWA', 'CAF', 'CAN',\n",
       "       'CEB', 'CHE', 'CHI', 'CHL', 'CHN', 'CIV', 'CMR', 'COD', 'COG',\n",
       "       'COL', 'COM', 'CPV', 'CRI', 'CSS', 'CUB', 'CUW', 'CYM', 'CYP',\n",
       "       'CZE', 'DEU', 'DJI', 'DMA', 'DNK', 'DOM', 'DZA', 'EAP', 'EAR',\n",
       "       'EAS', 'ECA', 'ECS', 'ECU', 'EGY', 'EMU', 'ERI', 'ESP', 'EST',\n",
       "       'ETH', 'EUU', 'FCS', 'FIN', 'FJI', 'FRA', 'FRO', 'FSM', 'GAB',\n",
       "       'GBR', 'GEO', 'GHA', 'GIB', 'GIN', 'GMB', 'GNB', 'GNQ', 'GRC',\n",
       "       'GRD', 'GRL', 'GTM', 'GUM', 'GUY', 'HIC', 'HKG', 'HND', 'HPC',\n",
       "       'HRV', 'HTI', 'HUN', 'IBD', 'IBT', 'IDA', 'IDB', 'IDN', 'IDX',\n",
       "       'IMN', 'IND', 'INX', 'IRL', 'IRN', 'IRQ', 'ISL', 'ISR', 'ITA',\n",
       "       'JAM', 'JOR', 'JPN', 'KAZ', 'KEN', 'KGZ', 'KHM', 'KIR', 'KNA',\n",
       "       'KOR', 'KWT', 'LAC', 'LAO', 'LBN', 'LBR', 'LBY', 'LCA', 'LCN',\n",
       "       'LDC', 'LIC', 'LIE', 'LKA', 'LMC', 'LMY', 'LSO', 'LTE', 'LTU',\n",
       "       'LUX', 'LVA', 'MAC', 'MAF', 'MAR', 'MCO', 'MDA', 'MDG', 'MDV',\n",
       "       'MEA', 'MEX', 'MHL', 'MIC', 'MKD', 'MLI', 'MLT', 'MMR', 'MNA',\n",
       "       'MNE', 'MNG', 'MNP', 'MOZ', 'MRT', 'MUS', 'MWI', 'MYS', 'NAC',\n",
       "       'NAM', 'NCL', 'NER', 'NGA', 'NIC', 'NLD', 'NOR', 'NPL', 'NRU',\n",
       "       'NZL', 'OED', 'OMN', 'OSS', 'PAK', 'PAN', 'PER', 'PHL', 'PLW',\n",
       "       'PNG', 'POL', 'PRE', 'PRI', 'PRK', 'PRT', 'PRY', 'PSE', 'PSS',\n",
       "       'PST', 'PYF', 'QAT', 'ROU', 'RUS', 'RWA', 'SAS', 'SAU', 'SDN',\n",
       "       'SEN', 'SGP', 'SLB', 'SLE', 'SLV', 'SMR', 'SOM', 'SRB', 'SSA',\n",
       "       'SSD', 'SSF', 'SST', 'STP', 'SUR', 'SVK', 'SVN', 'SWE', 'SWZ',\n",
       "       'SXM', 'SYC', 'SYR', 'TCA', 'TCD', 'TEA', 'TEC', 'TGO', 'THA',\n",
       "       'TJK', 'TKM', 'TLA', 'TLS', 'TMN', 'TON', 'TSA', 'TSS', 'TTO',\n",
       "       'TUN', 'TUR', 'TUV', 'TZA', 'UGA', 'UKR', 'UMC', 'URY', 'USA',\n",
       "       'UZB', 'VCT', 'VEN', 'VGB', 'VIR', 'VNM', 'VUT', 'WLD', 'WSM',\n",
       "       'XKX', 'YEM', 'ZAF', 'ZMB', 'ZWE'], dtype=object)"
      ]
     },
     "execution_count": 19,
     "metadata": {},
     "output_type": "execute_result"
    }
   ],
   "source": [
    "df['Country Code'].unique()"
   ]
  },
  {
   "cell_type": "code",
   "execution_count": 20,
   "id": "22065408",
   "metadata": {},
   "outputs": [
    {
     "data": {
      "text/plain": [
       "array(['Population, total'], dtype=object)"
      ]
     },
     "execution_count": 20,
     "metadata": {},
     "output_type": "execute_result"
    }
   ],
   "source": [
    "df['Indicator Name'].unique()"
   ]
  },
  {
   "cell_type": "code",
   "execution_count": 21,
   "id": "56d22ef0",
   "metadata": {},
   "outputs": [
    {
     "data": {
      "text/plain": [
       "array(['SP.POP.TOTL'], dtype=object)"
      ]
     },
     "execution_count": 21,
     "metadata": {},
     "output_type": "execute_result"
    }
   ],
   "source": [
    "df['Indicator Code'].unique()"
   ]
  },
  {
   "cell_type": "code",
   "execution_count": 22,
   "id": "b6cd17a2",
   "metadata": {},
   "outputs": [],
   "source": [
    "#dropping unnecessary columns\n",
    "df.drop(['Indicator Name','Indicator Code','Country Code'],axis=1,inplace=True)"
   ]
  },
  {
   "cell_type": "code",
   "execution_count": 23,
   "id": "80e0187e",
   "metadata": {},
   "outputs": [
    {
     "data": {
      "text/plain": [
       "Index(['Country Name', '2001', '2002', '2003', '2004', '2005', '2006', '2007',\n",
       "       '2008', '2009', '2010', '2011', '2012', '2013', '2014', '2015', '2016',\n",
       "       '2017', '2018', '2019', '2020', '2021', '2022'],\n",
       "      dtype='object')"
      ]
     },
     "execution_count": 23,
     "metadata": {},
     "output_type": "execute_result"
    }
   ],
   "source": [
    "df.columns"
   ]
  },
  {
   "cell_type": "code",
   "execution_count": 24,
   "id": "083a9fda",
   "metadata": {},
   "outputs": [],
   "source": [
    "#plotting the dataset\n",
    "#Histogram"
   ]
  },
  {
   "cell_type": "code",
   "execution_count": 25,
   "id": "3e89aefd",
   "metadata": {},
   "outputs": [],
   "source": [
    "col=['2001','2002','2003','2004','2005','2006','2007','2008','2009','2010',\n",
    "    '2011','2012','2013','2014','2015','2016','2017','2018','2019','2020','2021','2022']"
   ]
  },
  {
   "cell_type": "code",
   "execution_count": 26,
   "id": "7fd67c53",
   "metadata": {},
   "outputs": [
    {
     "data": {
      "image/png": "[encoded data removed]",
      "text/plain": [
       "<Figure size 360x360 with 1 Axes>"
      ]
     },
     "metadata": {
      "needs_background": "light"
     },
     "output_type": "display_data"
    },
    {
     "data": {
      "image/png": "[encoded data removed]",
      "text/plain": [
       "<Figure size 360x360 with 1 Axes>"
      ]
     },
     "metadata": {
      "needs_background": "light"
     },
     "output_type": "display_data"
    },
    {
     "data": {
      "image/png": "[encoded data removed]",
      "text/plain": [
       "<Figure size 360x360 with 1 Axes>"
      ]
     },
     "metadata": {
      "needs_background": "light"
     },
     "output_type": "display_data"
    },
    {
     "data": {
      "image/png": "[encoded data removed]",
      "text/plain": [
       "<Figure size 360x360 with 1 Axes>"
      ]
     },
     "metadata": {
      "needs_background": "light"
     },
     "output_type": "display_data"
    },
    {
     "data": {
      "image/png": "[encoded data removed]",
      "text/plain": [
       "<Figure size 360x360 with 1 Axes>"
      ]
     },
     "metadata": {
      "needs_background": "light"
     },
     "output_type": "display_data"
    },
    {
     "data": {
      "image/png": "[encoded data removed]",
      "text/plain": [
       "<Figure size 360x360 with 1 Axes>"
      ]
     },
     "metadata": {
      "needs_background": "light"
     },
     "output_type": "display_data"
    },
    {
     "data": {
      "image/png": "[encoded data removed]",
      "text/plain": [
       "<Figure size 360x360 with 1 Axes>"
      ]
     },
     "metadata": {
      "needs_background": "light"
     },
     "output_type": "display_data"
    },
    {
     "data": {
      "image/png": "[encoded data removed]",
      "text/plain": [
       "<Figure size 360x360 with 1 Axes>"
      ]
     },
     "metadata": {
      "needs_background": "light"
     },
     "output_type": "display_data"
    },
    {
     "data": {
      "image/png": "[encoded data removed]",
      "text/plain": [
       "<Figure size 360x360 with 1 Axes>"
      ]
     },
     "metadata": {
      "needs_background": "light"
     },
     "output_type": "display_data"
    },
    {
     "data": {
      "image/png": "[encoded data removed]",
      "text/plain": [
       "<Figure size 360x360 with 1 Axes>"
      ]
     },
     "metadata": {
      "needs_background": "light"
     },
     "output_type": "display_data"
    },
    {
     "data": {
      "image/png": "[encoded data removed]",
      "text/plain": [
       "<Figure size 360x360 with 1 Axes>"
      ]
     },
     "metadata": {
      "needs_background": "light"
     },
     "output_type": "display_data"
    },
    {
     "data": {
      "image/png": "[encoded data removed]",
      "text/plain": [
       "<Figure size 360x360 with 1 Axes>"
      ]
     },
     "metadata": {
      "needs_background": "light"
     },
     "output_type": "display_data"
    },
    {
     "data": {
      "image/png": "[encoded data removed]",
      "text/plain": [
       "<Figure size 360x360 with 1 Axes>"
      ]
     },
     "metadata": {
      "needs_background": "light"
     },
     "output_type": "display_data"
    },
    {
     "data": {
      "image/png": "[encoded data removed]",
      "text/plain": [
       "<Figure size 360x360 with 1 Axes>"
      ]
     },
     "metadata": {
      "needs_background": "light"
     },
     "output_type": "display_data"
    },
    {
     "data": {
      "image/png": "[encoded data removed]",
      "text/plain": [
       "<Figure size 360x360 with 1 Axes>"
      ]
     },
     "metadata": {
      "needs_background": "light"
     },
     "output_type": "display_data"
    },
    {
     "data": {
      "image/png": "[encoded data removed]",
      "text/plain": [
       "<Figure size 360x360 with 1 Axes>"
      ]
     },
     "metadata": {
      "needs_background": "light"
     },
     "output_type": "display_data"
    },
    {
     "data": {
      "image/png": "[encoded data removed]",
      "text/plain": [
       "<Figure size 360x360 with 1 Axes>"
      ]
     },
     "metadata": {
      "needs_background": "light"
     },
     "output_type": "display_data"
    },
    {
     "data": {
      "image/png": "[encoded data removed]",
      "text/plain": [
       "<Figure size 360x360 with 1 Axes>"
      ]
     },
     "metadata": {
      "needs_background": "light"
     },
     "output_type": "display_data"
    },
    {
     "data": {
      "image/png": "[encoded data removed]",
      "text/plain": [
       "<Figure size 360x360 with 1 Axes>"
      ]
     },
     "metadata": {
      "needs_background": "light"
     },
     "output_type": "display_data"
    },
    {
     "data": {
      "image/png": "[encoded data removed]",
      "text/plain": [
       "<Figure size 360x360 with 1 Axes>"
      ]
     },
     "metadata": {
      "needs_background": "light"
     },
     "output_type": "display_data"
    },
    {
     "data": {
      "image/png": "[encoded data removed]",
      "text/plain": [
       "<Figure size 360x360 with 1 Axes>"
      ]
     },
     "metadata": {
      "needs_background": "light"
     },
     "output_type": "display_data"
    },
    {
     "data": {
      "image/png": "[encoded data removed]",
      "text/plain": [
       "<Figure size 360x360 with 1 Axes>"
      ]
     },
     "metadata": {
      "needs_background": "light"
     },
     "output_type": "display_data"
    }
   ],
   "source": [
    "for i in col:\n",
    "    fig=plt.figure(figsize=(5,5))\n",
    "    plt.hist(df[i],bins=10)\n",
    "    plt.xlabel(i)\n",
    "    plt.show()"
   ]
  },
  {
   "cell_type": "code",
   "execution_count": 27,
   "id": "55256d9e",
   "metadata": {},
   "outputs": [
    {
     "data": {
      "image/png": "[encoded data removed]",
      "text/plain": [
       "<Figure size 432x288 with 1 Axes>"
      ]
     },
     "metadata": {
      "needs_background": "light"
     },
     "output_type": "display_data"
    }
   ],
   "source": [
    "i=1\n",
    "while i<=22:\n",
    "    sns.histplot(data=df,bins=10)\n",
    "    i=i+1"
   ]
  },
  {
   "cell_type": "code",
   "execution_count": 32,
   "id": "a66f5dac",
   "metadata": {},
   "outputs": [],
   "source": [
    "#Barplot\n",
    "# Extract the years from dataframe\n",
    "years=df.columns[1:]"
   ]
  },
  {
   "cell_type": "code",
   "execution_count": 31,
   "id": "07ee23c0",
   "metadata": {},
   "outputs": [
    {
     "data": {
      "text/plain": [
       "2001    6.714170e+10\n",
       "2002    6.809013e+10\n",
       "2003    6.903751e+10\n",
       "2004    6.998626e+10\n",
       "2005    7.093903e+10\n",
       "2006    7.189530e+10\n",
       "2007    7.285319e+10\n",
       "2008    7.382347e+10\n",
       "2009    7.480500e+10\n",
       "2010    7.579530e+10\n",
       "2011    7.679459e+10\n",
       "2012    7.783023e+10\n",
       "2013    7.887748e+10\n",
       "2014    7.992677e+10\n",
       "2015    8.096760e+10\n",
       "2016    8.200599e+10\n",
       "2017    8.304243e+10\n",
       "2018    8.405632e+10\n",
       "2019    8.504654e+10\n",
       "2020    8.600920e+10\n",
       "2021    8.687484e+10\n",
       "2022    8.767042e+10\n",
       "dtype: float64"
      ]
     },
     "execution_count": 31,
     "metadata": {},
     "output_type": "execute_result"
    }
   ],
   "source": [
    "#sum the values for each year across all countries\n",
    "total_values=df[years].sum()\n",
    "total_values"
   ]
  },
  {
   "cell_type": "code",
   "execution_count": 33,
   "id": "59ed4c3d",
   "metadata": {},
   "outputs": [
    {
     "data": {
      "image/png": "[encoded data removed]",
      "text/plain": [
       "<Figure size 1440x1440 with 1 Axes>"
      ]
     },
     "metadata": {
      "needs_background": "light"
     },
     "output_type": "display_data"
    }
   ],
   "source": [
    "# plotting the bar chart\n",
    "plt.figure(figsize=(20,20))\n",
    "plt.barh(years,total_values,color='green')\n",
    "plt.xlabel('Total Values',size=20)\n",
    "plt.ylabel('Year',size=20)\n",
    "plt.title('Total values per year',size=20)\n",
    "plt.show()"
   ]
  },
  {
   "cell_type": "code",
   "execution_count": null,
   "id": "621ac7ac",
   "metadata": {},
   "outputs": [],
   "source": []
  }
 ],
 "metadata": {
  "kernelspec": {
   "display_name": "Python 3",
   "language": "python",
   "name": "python3"
  },
  "language_info": {
   "codemirror_mode": {
    "name": "ipython",
    "version": 3
   },
   "file_extension": ".py",
   "mimetype": "text/x-python",
   "name": "python",
   "nbconvert_exporter": "python",
   "pygments_lexer": "ipython3",
   "version": "3.8.8"
  }
 },
 "nbformat": 4,
 "nbformat_minor": 5
}
